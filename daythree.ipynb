{
 "cells": [
  {
   "cell_type": "markdown",
   "metadata": {},
   "source": [
    "# Part 1"
   ]
  },
  {
   "cell_type": "markdown",
   "metadata": {},
   "source": [
    "One Elf has the important job of loading all of the rucksacks with supplies for the jungle journey. Unfortunately, that Elf didn't quite follow the packing instructions, and so a few items now need to be rearranged.\n",
    "\n",
    "Each rucksack has two large compartments. All items of a given type are meant to go into exactly one of the two compartments. The Elf that did the packing failed to follow this rule for exactly one item type per rucksack.\n",
    "\n",
    "The Elves have made a list of all of the items currently in each rucksack (your puzzle input), but they need your help finding the errors. Every item type is identified by a single lowercase or uppercase letter (that is, a and A refer to different types of items).\n",
    "\n",
    "The list of items for each rucksack is given as characters all on a single line. A given rucksack always has the same number of items in each of its two compartments, so the first half of the characters represent items in the first compartment, while the second half of the characters represent items in the second compartment.\n",
    "\n",
    "For example, suppose you have the following list of contents from six rucksacks:\n",
    "\n",
    "vJrwpWtwJgWrhcsFMMfFFhFp\n",
    "jqHRNqRjqzjGDLGLrsFMfFZSrLrFZsSL\n",
    "PmmdzqPrVvPwwTWBwg\n",
    "wMqvLMZHhHMvwLHjbvcjnnSBnvTQFn\n",
    "ttgJtRGJQctTZtZT\n",
    "CrZsJsPPZsGzwwsLwLmpwMDw\n",
    "\n",
    "    The first rucksack contains the items vJrwpWtwJgWrhcsFMMfFFhFp, which means its first compartment contains the items vJrwpWtwJgWr, while the second compartment contains the items hcsFMMfFFhFp. The only item type that appears in both compartments is lowercase p.\n",
    "    The second rucksack's compartments contain jqHRNqRjqzjGDLGL and rsFMfFZSrLrFZsSL. The only item type that appears in both compartments is uppercase L.\n",
    "    The third rucksack's compartments contain PmmdzqPrV and vPwwTWBwg; the only common item type is uppercase P.\n",
    "    The fourth rucksack's compartments only share item type v.\n",
    "    The fifth rucksack's compartments only share item type t.\n",
    "    The sixth rucksack's compartments only share item type s.\n",
    "\n",
    "To help prioritize item rearrangement, every item type can be converted to a priority:\n",
    "\n",
    "    Lowercase item types a through z have priorities 1 through 26.\n",
    "    Uppercase item types A through Z have priorities 27 through 52.\n",
    "\n",
    "In the above example, the priority of the item type that appears in both compartments of each rucksack is 16 (p), 38 (L), 42 (P), 22 (v), 20 (t), and 19 (s); the sum of these is 157.\n",
    "\n",
    "Find the item type that appears in both compartments of each rucksack. What is the sum of the priorities of those item types?"
   ]
  },
  {
   "cell_type": "code",
   "execution_count": null,
   "metadata": {},
   "outputs": [],
   "source": [
    "#Split each input into 2, are they even?\n",
    "#iterate through letters and find a match\n",
    "#map letters of alphabet to numbers... some sort of ascii function"
   ]
  },
  {
   "cell_type": "code",
   "execution_count": null,
   "metadata": {},
   "outputs": [],
   "source": [
    "import pandas as pd\n",
    "pd.options.mode.chained_assignment = None\n",
    "df = pd.read_excel(\"Data/daythreedata.xlsx\", header=None, names=['Input'])\n",
    "df['first'] = \"\"\n",
    "df['second'] = \"\"\n",
    "df['common'] = \"\"\n",
    "df['output'] = \"\""
   ]
  },
  {
   "cell_type": "code",
   "execution_count": null,
   "metadata": {},
   "outputs": [],
   "source": [
    "for x in range(len(df)):\n",
    "    halfpoint = int(len(df['Input'][x])/2)\n",
    "    df['first'][x] = df['Input'][x][:halfpoint]\n",
    "    df['second'][x] = df['Input'][x][halfpoint:]\n",
    "    for letter in df['first'][x]:\n",
    "        if letter in df['second'][x]:\n",
    "            df['common'][x] = letter\n",
    "            break\n",
    "    if df['common'][x].isupper():\n",
    "        df['output'][x] = ord(df['common'][x]) - 38\n",
    "    else:\n",
    "        df['output'][x] = ord(df['common'][x]) - 96"
   ]
  },
  {
   "cell_type": "markdown",
   "metadata": {},
   "source": [
    "## Answer"
   ]
  },
  {
   "cell_type": "code",
   "execution_count": null,
   "metadata": {},
   "outputs": [],
   "source": [
    "df['output'].sum()"
   ]
  },
  {
   "cell_type": "markdown",
   "metadata": {},
   "source": [
    "# Part 2"
   ]
  },
  {
   "cell_type": "markdown",
   "metadata": {},
   "source": [
    "As you finish identifying the misplaced items, the Elves come to you with another issue.\n",
    "\n",
    "For safety, the Elves are divided into groups of three. Every Elf carries a badge that identifies their group. For efficiency, within each group of three Elves, the badge is the only item type carried by all three Elves. That is, if a group's badge is item type B, then all three Elves will have item type B somewhere in their rucksack, and at most two of the Elves will be carrying any other item type.\n",
    "\n",
    "The problem is that someone forgot to put this year's updated authenticity sticker on the badges. All of the badges need to be pulled out of the rucksacks so the new authenticity stickers can be attached.\n",
    "\n",
    "Additionally, nobody wrote down which item type corresponds to each group's badges. The only way to tell which item type is the right one is by finding the one item type that is common between all three Elves in each group.\n",
    "\n",
    "Every set of three lines in your list corresponds to a single group, but each group can have a different badge item type. So, in the above example, the first group's rucksacks are the first three lines:\n",
    "\n",
    "vJrwpWtwJgWrhcsFMMfFFhFp\n",
    "jqHRNqRjqzjGDLGLrsFMfFZSrLrFZsSL\n",
    "PmmdzqPrVvPwwTWBwg\n",
    "\n",
    "And the second group's rucksacks are the next three lines:\n",
    "\n",
    "wMqvLMZHhHMvwLHjbvcjnnSBnvTQFn\n",
    "ttgJtRGJQctTZtZT\n",
    "CrZsJsPPZsGzwwsLwLmpwMDw\n",
    "\n",
    "In the first group, the only item type that appears in all three rucksacks is lowercase r; this must be their badges. In the second group, their badge item type must be Z.\n",
    "\n",
    "Priorities for these items must still be found to organize the sticker attachment efforts: here, they are 18 (r) for the first group and 52 (Z) for the second group. The sum of these is 70.\n",
    "\n",
    "Find the item type that corresponds to the badges of each three-Elf group. What is the sum of the priorities of those item types?"
   ]
  },
  {
   "cell_type": "code",
   "execution_count": 210,
   "metadata": {},
   "outputs": [],
   "source": [
    "import pandas as pd\n",
    "pd.options.mode.chained_assignment = None\n",
    "df = pd.read_excel(\"Data/daythreedata.xlsx\", header=None, names=['Input'])\n",
    "df['first'] = \"\"\n",
    "df['second'] = \"\"\n",
    "df['third'] = \"\"\n",
    "df['common'] = \"\"\n",
    "df['output'] = \"\""
   ]
  },
  {
   "cell_type": "code",
   "execution_count": 211,
   "metadata": {},
   "outputs": [],
   "source": [
    "for x in range(len(df)):\n",
    "    try:\n",
    "        df['first'][x] = df['Input'][x]\n",
    "        df['second'][x] = df['Input'][x+1]\n",
    "        df['third'][x] = df['Input'][x+2]\n",
    "    except:\n",
    "        break\n",
    "    for letter in df['first'][x]:\n",
    "        if letter in df['second'][x]:\n",
    "            if letter in df['third'][x]:\n",
    "                df['common'][x] = letter\n",
    "                break\n",
    "\n",
    "df = df[::3]\n",
    "df = df.reset_index(drop=True)"
   ]
  },
  {
   "cell_type": "code",
   "execution_count": 212,
   "metadata": {},
   "outputs": [],
   "source": [
    "for x in range(len(df)):\n",
    "    if df['common'][x].isupper():\n",
    "        df['output'][x] = ord(df['common'][x]) - 38\n",
    "    else:\n",
    "        df['output'][x] = ord(df['common'][x]) - 96"
   ]
  },
  {
   "cell_type": "markdown",
   "metadata": {},
   "source": [
    "## Answer"
   ]
  },
  {
   "cell_type": "code",
   "execution_count": 213,
   "metadata": {},
   "outputs": [
    {
     "data": {
      "text/plain": [
       "2587"
      ]
     },
     "execution_count": 213,
     "metadata": {},
     "output_type": "execute_result"
    }
   ],
   "source": [
    "df['output'].sum()"
   ]
  },
  {
   "cell_type": "code",
   "execution_count": 214,
   "metadata": {},
   "outputs": [
    {
     "data": {
      "text/html": [
       "<div>\n",
       "<style scoped>\n",
       "    .dataframe tbody tr th:only-of-type {\n",
       "        vertical-align: middle;\n",
       "    }\n",
       "\n",
       "    .dataframe tbody tr th {\n",
       "        vertical-align: top;\n",
       "    }\n",
       "\n",
       "    .dataframe thead th {\n",
       "        text-align: right;\n",
       "    }\n",
       "</style>\n",
       "<table border=\"1\" class=\"dataframe\">\n",
       "  <thead>\n",
       "    <tr style=\"text-align: right;\">\n",
       "      <th></th>\n",
       "      <th>Input</th>\n",
       "      <th>first</th>\n",
       "      <th>second</th>\n",
       "      <th>third</th>\n",
       "      <th>common</th>\n",
       "      <th>output</th>\n",
       "    </tr>\n",
       "  </thead>\n",
       "  <tbody>\n",
       "    <tr>\n",
       "      <th>0</th>\n",
       "      <td>pqgZZSZgcZJqpzBbqTbbLjBDBLhB</td>\n",
       "      <td>pqgZZSZgcZJqpzBbqTbbLjBDBLhB</td>\n",
       "      <td>wHptFFsHttHFLMDQDFTbbj</td>\n",
       "      <td>fVfvsstwPHwNwfNGfHWRSnlpClcJzCWCzddSrddg</td>\n",
       "      <td>p</td>\n",
       "      <td>16</td>\n",
       "    </tr>\n",
       "    <tr>\n",
       "      <th>1</th>\n",
       "      <td>bdgHbZJHgMHgJgJctDtVssVcpFtq</td>\n",
       "      <td>bdgHbZJHgMHgJgJctDtVssVcpFtq</td>\n",
       "      <td>rNNQqBSzTcBPTDsP</td>\n",
       "      <td>GWNNrhGnNnWNzRfnRQRbhCdqHMbdmbZddbmCmd</td>\n",
       "      <td>q</td>\n",
       "      <td>17</td>\n",
       "    </tr>\n",
       "    <tr>\n",
       "      <th>2</th>\n",
       "      <td>BSBDzrSwrqccDDwbfcBjsRwggClslTRWGWGMFlsF</td>\n",
       "      <td>BSBDzrSwrqccDDwbfcBjsRwggClslTRWGWGMFlsF</td>\n",
       "      <td>dnhVhLJtzNZdgCRlsTGWCRJG</td>\n",
       "      <td>ZHZdNzptLNtPhPdnprPbbDBrSqrSQPjbqD</td>\n",
       "      <td>z</td>\n",
       "      <td>26</td>\n",
       "    </tr>\n",
       "    <tr>\n",
       "      <th>3</th>\n",
       "      <td>rlSwlrGvwTTSwSggCJGQJdhVgJGQ</td>\n",
       "      <td>rlSwlrGvwTTSwSggCJGQJdhVgJGQ</td>\n",
       "      <td>jcrHrMWfNHNzQgVH</td>\n",
       "      <td>WbfjmBMrBrrmLtqMbwwsPTvPpwvBPFPsws</td>\n",
       "      <td>r</td>\n",
       "      <td>18</td>\n",
       "    </tr>\n",
       "    <tr>\n",
       "      <th>4</th>\n",
       "      <td>NRNcHzbzbMRcNPjPrrlBPlbtBl</td>\n",
       "      <td>NRNcHzbzbMRcNPjPrrlBPlbtBl</td>\n",
       "      <td>CZwVCCpWggqprwtlHlssHtPr</td>\n",
       "      <td>WpmLghCVCqCnmVTLnccRQvvQQHDhNQzzzc</td>\n",
       "      <td>H</td>\n",
       "      <td>34</td>\n",
       "    </tr>\n",
       "    <tr>\n",
       "      <th>...</th>\n",
       "      <td>...</td>\n",
       "      <td>...</td>\n",
       "      <td>...</td>\n",
       "      <td>...</td>\n",
       "      <td>...</td>\n",
       "      <td>...</td>\n",
       "    </tr>\n",
       "    <tr>\n",
       "      <th>95</th>\n",
       "      <td>hNsgsgzNZRghPhZBdssPQfzDmQSmmzQGJWzfCDJJ</td>\n",
       "      <td>hNsgsgzNZRghPhZBdssPQfzDmQSmmzQGJWzfCDJJ</td>\n",
       "      <td>bblVHvvHHTljwFCfGrvmfmmJBmGQ</td>\n",
       "      <td>THMMFVwqTPRdZptMBP</td>\n",
       "      <td>B</td>\n",
       "      <td>28</td>\n",
       "    </tr>\n",
       "    <tr>\n",
       "      <th>96</th>\n",
       "      <td>QvcPGSvQLjmcQWSGWWGjLCNhhqpCdBCNCbJNdVWpCh</td>\n",
       "      <td>QvcPGSvQLjmcQWSGWWGjLCNhhqpCdBCNCbJNdVWpCh</td>\n",
       "      <td>rwtLlzZggLHnHlwHRDdVqBbCdqqVVhbqVnVh</td>\n",
       "      <td>zRDzwRrwlRlRTgrDtllmQGLcPjGLccFmTcGSQc</td>\n",
       "      <td>L</td>\n",
       "      <td>38</td>\n",
       "    </tr>\n",
       "    <tr>\n",
       "      <th>97</th>\n",
       "      <td>RWlgQlbcWBwzsJggTfhh</td>\n",
       "      <td>RWlgQlbcWBwzsJggTfhh</td>\n",
       "      <td>GrnLjHLjmLjjGSLjSDmfJJpfThhfSWJPqJqhwz</td>\n",
       "      <td>vLvDDnDNrCVjCmNDbFlBVZdVRQlRbWcb</td>\n",
       "      <td>W</td>\n",
       "      <td>49</td>\n",
       "    </tr>\n",
       "    <tr>\n",
       "      <th>98</th>\n",
       "      <td>mTlwFngwmlLlvsmLHmHsLJhJFfcbdpbNcjCNCbpccb</td>\n",
       "      <td>mTlwFngwmlLlvsmLHmHsLJhJFfcbdpbNcjCNCbpccb</td>\n",
       "      <td>tZRzBRzBBRQzPqGRqrVQtjjfbCMcfMfCMMjVjfCJNd</td>\n",
       "      <td>SDBBPtZZTdnnwSvg</td>\n",
       "      <td>d</td>\n",
       "      <td>4</td>\n",
       "    </tr>\n",
       "    <tr>\n",
       "      <th>99</th>\n",
       "      <td>nddNNMMPNBnBNnBTQSShlSHghlDHBr</td>\n",
       "      <td>nddNNMMPNBnBNnBTQSShlSHghlDHBr</td>\n",
       "      <td>VcccVmqJsJsjlTmzTDggmHHT</td>\n",
       "      <td>VqLtFCqFJfVtVjsNgPNNMMWNwgtNvn</td>\n",
       "      <td>g</td>\n",
       "      <td>7</td>\n",
       "    </tr>\n",
       "  </tbody>\n",
       "</table>\n",
       "<p>100 rows × 6 columns</p>\n",
       "</div>"
      ],
      "text/plain": [
       "                                         Input  \\\n",
       "0                 pqgZZSZgcZJqpzBbqTbbLjBDBLhB   \n",
       "1                 bdgHbZJHgMHgJgJctDtVssVcpFtq   \n",
       "2     BSBDzrSwrqccDDwbfcBjsRwggClslTRWGWGMFlsF   \n",
       "3                 rlSwlrGvwTTSwSggCJGQJdhVgJGQ   \n",
       "4                   NRNcHzbzbMRcNPjPrrlBPlbtBl   \n",
       "..                                         ...   \n",
       "95    hNsgsgzNZRghPhZBdssPQfzDmQSmmzQGJWzfCDJJ   \n",
       "96  QvcPGSvQLjmcQWSGWWGjLCNhhqpCdBCNCbJNdVWpCh   \n",
       "97                        RWlgQlbcWBwzsJggTfhh   \n",
       "98  mTlwFngwmlLlvsmLHmHsLJhJFfcbdpbNcjCNCbpccb   \n",
       "99              nddNNMMPNBnBNnBTQSShlSHghlDHBr   \n",
       "\n",
       "                                         first  \\\n",
       "0                 pqgZZSZgcZJqpzBbqTbbLjBDBLhB   \n",
       "1                 bdgHbZJHgMHgJgJctDtVssVcpFtq   \n",
       "2     BSBDzrSwrqccDDwbfcBjsRwggClslTRWGWGMFlsF   \n",
       "3                 rlSwlrGvwTTSwSggCJGQJdhVgJGQ   \n",
       "4                   NRNcHzbzbMRcNPjPrrlBPlbtBl   \n",
       "..                                         ...   \n",
       "95    hNsgsgzNZRghPhZBdssPQfzDmQSmmzQGJWzfCDJJ   \n",
       "96  QvcPGSvQLjmcQWSGWWGjLCNhhqpCdBCNCbJNdVWpCh   \n",
       "97                        RWlgQlbcWBwzsJggTfhh   \n",
       "98  mTlwFngwmlLlvsmLHmHsLJhJFfcbdpbNcjCNCbpccb   \n",
       "99              nddNNMMPNBnBNnBTQSShlSHghlDHBr   \n",
       "\n",
       "                                        second  \\\n",
       "0                       wHptFFsHttHFLMDQDFTbbj   \n",
       "1                             rNNQqBSzTcBPTDsP   \n",
       "2                     dnhVhLJtzNZdgCRlsTGWCRJG   \n",
       "3                             jcrHrMWfNHNzQgVH   \n",
       "4                     CZwVCCpWggqprwtlHlssHtPr   \n",
       "..                                         ...   \n",
       "95                bblVHvvHHTljwFCfGrvmfmmJBmGQ   \n",
       "96        rwtLlzZggLHnHlwHRDdVqBbCdqqVVhbqVnVh   \n",
       "97      GrnLjHLjmLjjGSLjSDmfJJpfThhfSWJPqJqhwz   \n",
       "98  tZRzBRzBBRQzPqGRqrVQtjjfbCMcfMfCMMjVjfCJNd   \n",
       "99                    VcccVmqJsJsjlTmzTDggmHHT   \n",
       "\n",
       "                                       third common output  \n",
       "0   fVfvsstwPHwNwfNGfHWRSnlpClcJzCWCzddSrddg      p     16  \n",
       "1     GWNNrhGnNnWNzRfnRQRbhCdqHMbdmbZddbmCmd      q     17  \n",
       "2         ZHZdNzptLNtPhPdnprPbbDBrSqrSQPjbqD      z     26  \n",
       "3         WbfjmBMrBrrmLtqMbwwsPTvPpwvBPFPsws      r     18  \n",
       "4         WpmLghCVCqCnmVTLnccRQvvQQHDhNQzzzc      H     34  \n",
       "..                                       ...    ...    ...  \n",
       "95                        THMMFVwqTPRdZptMBP      B     28  \n",
       "96    zRDzwRrwlRlRTgrDtllmQGLcPjGLccFmTcGSQc      L     38  \n",
       "97          vLvDDnDNrCVjCmNDbFlBVZdVRQlRbWcb      W     49  \n",
       "98                          SDBBPtZZTdnnwSvg      d      4  \n",
       "99            VqLtFCqFJfVtVjsNgPNNMMWNwgtNvn      g      7  \n",
       "\n",
       "[100 rows x 6 columns]"
      ]
     },
     "execution_count": 214,
     "metadata": {},
     "output_type": "execute_result"
    }
   ],
   "source": [
    "df"
   ]
  },
  {
   "cell_type": "code",
   "execution_count": null,
   "metadata": {},
   "outputs": [],
   "source": []
  }
 ],
 "metadata": {
  "kernelspec": {
   "display_name": "Python 3.10.6 ('venv': venv)",
   "language": "python",
   "name": "python3"
  },
  "language_info": {
   "codemirror_mode": {
    "name": "ipython",
    "version": 3
   },
   "file_extension": ".py",
   "mimetype": "text/x-python",
   "name": "python",
   "nbconvert_exporter": "python",
   "pygments_lexer": "ipython3",
   "version": "3.10.6"
  },
  "orig_nbformat": 4,
  "vscode": {
   "interpreter": {
    "hash": "d913aa411f5812ffd01a42f39b755fa4a248987799702bc1c27f606c1b67c7c5"
   }
  }
 },
 "nbformat": 4,
 "nbformat_minor": 2
}
