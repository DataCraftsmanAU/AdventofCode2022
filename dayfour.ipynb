{
 "cells": [
  {
   "cell_type": "markdown",
   "metadata": {},
   "source": [
    "# Part 1"
   ]
  },
  {
   "cell_type": "markdown",
   "metadata": {},
   "source": [
    "Space needs to be cleared before the last supplies can be unloaded from the ships, and so several Elves have been assigned the job of cleaning up sections of the camp. Every section has a unique ID number, and each Elf is assigned a range of section IDs.\n",
    "\n",
    "However, as some of the Elves compare their section assignments with each other, they've noticed that many of the assignments overlap. To try to quickly find overlaps and reduce duplicated effort, the Elves pair up and make a big list of the section assignments for each pair (your puzzle input).\n",
    "\n",
    "For example, consider the following list of section assignment pairs:\n",
    "\n",
    "2-4,6-8\n",
    "2-3,4-5\n",
    "5-7,7-9\n",
    "2-8,3-7\n",
    "6-6,4-6\n",
    "2-6,4-8\n",
    "\n",
    "For the first few pairs, this list means:\n",
    "\n",
    "    Within the first pair of Elves, the first Elf was assigned sections 2-4 (sections 2, 3, and 4), while the second Elf was assigned sections 6-8 (sections 6, 7, 8).\n",
    "    The Elves in the second pair were each assigned two sections.\n",
    "    The Elves in the third pair were each assigned three sections: one got sections 5, 6, and 7, while the other also got 7, plus 8 and 9.\n",
    "\n",
    "This example list uses single-digit section IDs to make it easier to draw; your actual list might contain larger numbers. Visually, these pairs of section assignments look like this:\n",
    "\n",
    ".234.....  2-4\n",
    ".....678.  6-8\n",
    "\n",
    ".23......  2-3\n",
    "...45....  4-5\n",
    "\n",
    "....567..  5-7\n",
    "......789  7-9\n",
    "\n",
    ".2345678.  2-8\n",
    "..34567..  3-7\n",
    "\n",
    ".....6...  6-6\n",
    "...456...  4-6\n",
    "\n",
    ".23456...  2-6\n",
    "...45678.  4-8\n",
    "\n",
    "Some of the pairs have noticed that one of their assignments fully contains the other. For example, 2-8 fully contains 3-7, and 6-6 is fully contained by 4-6. In pairs where one assignment fully contains the other, one Elf in the pair would be exclusively cleaning sections their partner will already be cleaning, so these seem like the most in need of reconsideration. In this example, there are 2 such pairs.\n",
    "\n",
    "In how many assignment pairs does one range fully contain the other?"
   ]
  },
  {
   "cell_type": "code",
   "execution_count": null,
   "metadata": {},
   "outputs": [],
   "source": [
    "#So I guess the question is, how many proper subsets are there in the pair groups.\n",
    "#elf1 16, 80\n",
    "#elf2 80, 87\n",
    "#Determine which elf has the lowest number. Elf 1 with 16\n",
    "# if elf2 range 2 (87) is a lower number than elf 1 range 2 (80) then elf2 is a subset. (false)\n",
    "# if 2 lows are the same then one of them has to be a subset"
   ]
  },
  {
   "cell_type": "code",
   "execution_count": 178,
   "metadata": {},
   "outputs": [],
   "source": [
    "import pandas as pd\n",
    "pd.options.mode.chained_assignment = None\n",
    "df = pd.read_excel(\"Data/dayfourdata.xlsx\", header=None, names=['Input'])\n",
    "df = df['Input'].str.split(',', expand=True)\n",
    "elf1 = df[0].str.split('-', expand=True).rename(columns=lambda x: f\"range {x+1}\")\n",
    "elf2 = df[1].str.split('-', expand=True).rename(columns=lambda x: f\"range {x+1}\")\n",
    "df['counter'] = 0"
   ]
  },
  {
   "cell_type": "code",
   "execution_count": 179,
   "metadata": {},
   "outputs": [],
   "source": [
    "for index, row in df.iterrows():\n",
    "    elf1low = int(elf1.iloc[index]['range 1'])\n",
    "    elf1high = int(elf1.iloc[index]['range 2'])\n",
    "    elf2low = int(elf2.iloc[index]['range 1'])\n",
    "    elf2high = int(elf2.iloc[index]['range 2'])\n",
    "    \n",
    "    if elf1low == min(elf1low,elf2low):\n",
    "        if elf1low == elf2low:\n",
    "            df['counter'].iloc[index] = 1\n",
    "        else:\n",
    "            if elf2high <= elf1high:\n",
    "                df['counter'].iloc[index] = 1\n",
    "    else:\n",
    "        if elf1low == elf2low:\n",
    "            df['counter'].iloc[index] = 1\n",
    "        if elf1high <= elf2high:\n",
    "            df['counter'].iloc[index] = 1"
   ]
  },
  {
   "cell_type": "markdown",
   "metadata": {},
   "source": [
    "## Answer"
   ]
  },
  {
   "cell_type": "code",
   "execution_count": 180,
   "metadata": {},
   "outputs": [
    {
     "data": {
      "text/plain": [
       "483"
      ]
     },
     "execution_count": 180,
     "metadata": {},
     "output_type": "execute_result"
    }
   ],
   "source": [
    "df['counter'].sum()"
   ]
  },
  {
   "cell_type": "markdown",
   "metadata": {},
   "source": [
    "# Part 2"
   ]
  },
  {
   "cell_type": "markdown",
   "metadata": {},
   "source": [
    "It seems like there is still quite a bit of duplicate work planned. Instead, the Elves would like to know the number of pairs that overlap at all.\n",
    "\n",
    "In the above example, the first two pairs (2-4,6-8 and 2-3,4-5) don't overlap, while the remaining four pairs (5-7,7-9, 2-8,3-7, 6-6,4-6, and 2-6,4-8) do overlap:\n",
    "\n",
    "    5-7,7-9 overlaps in a single section, 7.\n",
    "    2-8,3-7 overlaps all of the sections 3 through 7.\n",
    "    6-6,4-6 overlaps in a single section, 6.\n",
    "    2-6,4-8 overlaps in sections 4, 5, and 6.\n",
    "\n",
    "So, in this example, the number of overlapping assignment pairs is 4.\n",
    "\n",
    "In how many assignment pairs do the ranges overlap?"
   ]
  },
  {
   "cell_type": "code",
   "execution_count": 2,
   "metadata": {},
   "outputs": [],
   "source": [
    "import pandas as pd\n",
    "pd.options.mode.chained_assignment = None\n",
    "df = pd.read_excel(\"Data/dayfourdata.xlsx\", header=None, names=['Input'])\n",
    "df = df['Input'].str.split(',', expand=True)\n",
    "elf1 = df[0].str.split('-', expand=True).rename(columns=lambda x: f\"range {x+1}\")\n",
    "elf2 = df[1].str.split('-', expand=True).rename(columns=lambda x: f\"range {x+1}\")\n",
    "df['counter'] = 0"
   ]
  },
  {
   "cell_type": "code",
   "execution_count": 4,
   "metadata": {},
   "outputs": [],
   "source": [
    "for index, row in df.iterrows():\n",
    "    elf1low = int(elf1.iloc[index]['range 1'])\n",
    "    elf1high = int(elf1.iloc[index]['range 2'])\n",
    "    elf2low = int(elf2.iloc[index]['range 1'])\n",
    "    elf2high = int(elf2.iloc[index]['range 2'])\n",
    "    \n",
    "    if elf1high >= elf2low:\n",
    "        if elf2high >= elf1low:\n",
    "            df['counter'].iloc[index] = 1\n",
    "    if elf2high >= elf1low:\n",
    "        if elf1high >= elf2low:\n",
    "            df['counter'].iloc[index] = 1   "
   ]
  },
  {
   "cell_type": "markdown",
   "metadata": {},
   "source": [
    "## Answer"
   ]
  },
  {
   "cell_type": "code",
   "execution_count": 7,
   "metadata": {},
   "outputs": [
    {
     "data": {
      "text/plain": [
       "874"
      ]
     },
     "execution_count": 7,
     "metadata": {},
     "output_type": "execute_result"
    }
   ],
   "source": [
    "df['counter'].sum()"
   ]
  }
 ],
 "metadata": {
  "kernelspec": {
   "display_name": "Python 3.10.6 ('venv': venv)",
   "language": "python",
   "name": "python3"
  },
  "language_info": {
   "codemirror_mode": {
    "name": "ipython",
    "version": 3
   },
   "file_extension": ".py",
   "mimetype": "text/x-python",
   "name": "python",
   "nbconvert_exporter": "python",
   "pygments_lexer": "ipython3",
   "version": "3.10.6"
  },
  "orig_nbformat": 4,
  "vscode": {
   "interpreter": {
    "hash": "d913aa411f5812ffd01a42f39b755fa4a248987799702bc1c27f606c1b67c7c5"
   }
  }
 },
 "nbformat": 4,
 "nbformat_minor": 2
}
